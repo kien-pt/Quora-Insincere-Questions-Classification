{
 "cells": [
  {
   "cell_type": "code",
   "execution_count": 1,
   "id": "indie-heath",
   "metadata": {
    "execution": {
     "iopub.execute_input": "2021-06-10T04:08:05.820530Z",
     "iopub.status.busy": "2021-06-10T04:08:05.818358Z",
     "iopub.status.idle": "2021-06-10T04:08:12.547415Z",
     "shell.execute_reply": "2021-06-10T04:08:12.546654Z",
     "shell.execute_reply.started": "2021-06-10T04:00:13.696580Z"
    },
    "papermill": {
     "duration": 6.771406,
     "end_time": "2021-06-10T04:08:12.547639",
     "exception": false,
     "start_time": "2021-06-10T04:08:05.776233",
     "status": "completed"
    },
    "tags": []
   },
   "outputs": [],
   "source": [
    "# Load libraries\n",
    "import re\n",
    "import sys\n",
    "import math\n",
    "import string\n",
    "import zipfile\n",
    "import unicodedata\n",
    "\n",
    "import numpy as np\n",
    "import pandas as pd\n",
    "import matplotlib.pyplot as plt\n",
    "\n",
    "from tqdm import tqdm\n",
    "from collections import Counter\n",
    "from gensim.models import KeyedVectors\n",
    "\n",
    "from sklearn import metrics\n",
    "from sklearn.metrics import f1_score\n",
    "from sklearn.model_selection import train_test_split\n",
    "\n",
    "from keras import backend as K\n",
    "from keras.engine.topology import Layer\n",
    "from keras.models import Sequential, Model\n",
    "from keras import initializers, regularizers, constraints\n",
    "from keras.layers import LSTM, Dense, Bidirectional, Input, Dropout"
   ]
  },
  {
   "cell_type": "markdown",
   "id": "entitled-exhaust",
   "metadata": {
    "_cell_guid": "b1076dfc-b9ad-4769-8c92-a6c4dae69d19",
    "_uuid": "8f2839f25d086af736a60e9eeb907d3b93b6e0e5",
    "papermill": {
     "duration": 0.035785,
     "end_time": "2021-06-10T04:08:12.619647",
     "exception": false,
     "start_time": "2021-06-10T04:08:12.583862",
     "status": "completed"
    },
    "tags": []
   },
   "source": [
    "# **I. Chuẩn bị dữ liệu**"
   ]
  },
  {
   "cell_type": "markdown",
   "id": "loose-recorder",
   "metadata": {
    "papermill": {
     "duration": 0.034948,
     "end_time": "2021-06-10T04:08:12.689570",
     "exception": false,
     "start_time": "2021-06-10T04:08:12.654622",
     "status": "completed"
    },
    "tags": []
   },
   "source": [
    "# 1. Load bộ dữ liệu\n",
    "\n",
    "**Problem**\n",
    "\n",
    "Phải load bộ dữ liệu lên mẫu để xử lý\n",
    "\n",
    "**Solution**\n",
    "\n",
    "Sử dụng hàm ```read_csv``` của thư viện pandas để load file CSV "
   ]
  },
  {
   "cell_type": "code",
   "execution_count": 2,
   "id": "parallel-distribution",
   "metadata": {
    "_kg_hide-output": true,
    "execution": {
     "iopub.execute_input": "2021-06-10T04:08:12.766967Z",
     "iopub.status.busy": "2021-06-10T04:08:12.766284Z",
     "iopub.status.idle": "2021-06-10T04:08:17.359396Z",
     "shell.execute_reply": "2021-06-10T04:08:17.358855Z",
     "shell.execute_reply.started": "2021-06-09T10:25:12.263492Z"
    },
    "papermill": {
     "duration": 4.634881,
     "end_time": "2021-06-10T04:08:17.359593",
     "exception": false,
     "start_time": "2021-06-10T04:08:12.724712",
     "status": "completed"
    },
    "tags": []
   },
   "outputs": [],
   "source": [
    "# Load datasets\n",
    "train_df = pd.read_csv('../input/quora-insincere-questions-classification/train.csv')\n",
    "test_dataframe = pd.read_csv('../input/quora-insincere-questions-classification/test.csv')"
   ]
  },
  {
   "cell_type": "markdown",
   "id": "arranged-shuttle",
   "metadata": {
    "papermill": {
     "duration": 0.034786,
     "end_time": "2021-06-10T04:08:17.430923",
     "exception": false,
     "start_time": "2021-06-10T04:08:17.396137",
     "status": "completed"
    },
    "tags": []
   },
   "source": [
    "# 2. Miêu tả bộ dữ liệu\n",
    "\n",
    "**Problem**\n",
    "\n",
    "Hiển thị một số đặc điểm cơ bản của của bộ dữ liệu\n",
    "\n",
    "**Solution**\n",
    "\n",
    "Sau khi hoàn thành việc load dữ liệu.\n",
    "* Đơn giản nhất là hiển thị vài dòng của dữ liệu, sử dụng ```head``` để xem những dòng đầu tiên hoặc ```tail``` để quan sát những dòng cuối cùng\n",
    "* Có thể lấy được số dòng và số cột của bộ dữ liệu, sử dụng ```shape```\n",
    "* Bên cạch đó, ta có thể miêu tả một vài thống kê cơ bản hoặc sử dụng thư viện **matplotlib** để visualize các thông số của dữ liệu.\n",
    "\n",
    "**Discussion**\n",
    "\n",
    "Sau khi load xong bộ, dữ liệu, phải hiểu được cấu trúc của nó cũng như các trường thông tin mà dữ liệu sở hữu. Trong bài toán phân loại mà chúng ta đang giải quyết, ta có thể thấy:\n",
    "* Dữ liệu gồm 3 trường, trong đó ta chỉ cần quan tâm đến cột **question_text** là nội dung của câu hỏi mình cần phân loại, cũng như **target** là dữ liệu kiểu BINARY với giá trị 1 là câu hỏi toxic, ngược lại 0 là câu hỏi non-toxic\n",
    "* Dữ liệu test gồm 1306122 câu hỏi\n",
    "* Sử dụng phương pháp được nêu trên, nhận thấy các câu hỏi trong bộ dữ liệu có chứa trung bình 12.8 từ trong một câu và trong một câu có trung bình 70.68 ký tự"
   ]
  },
  {
   "cell_type": "code",
   "execution_count": 3,
   "id": "satisfactory-bradford",
   "metadata": {
    "execution": {
     "iopub.execute_input": "2021-06-10T04:08:17.518424Z",
     "iopub.status.busy": "2021-06-10T04:08:17.516162Z",
     "iopub.status.idle": "2021-06-10T04:08:17.529693Z",
     "shell.execute_reply": "2021-06-10T04:08:17.530237Z",
     "shell.execute_reply.started": "2021-06-09T10:25:17.715164Z"
    },
    "papermill": {
     "duration": 0.064341,
     "end_time": "2021-06-10T04:08:17.530411",
     "exception": false,
     "start_time": "2021-06-10T04:08:17.466070",
     "status": "completed"
    },
    "tags": []
   },
   "outputs": [
    {
     "data": {
      "text/html": [
       "<div>\n",
       "<style scoped>\n",
       "    .dataframe tbody tr th:only-of-type {\n",
       "        vertical-align: middle;\n",
       "    }\n",
       "\n",
       "    .dataframe tbody tr th {\n",
       "        vertical-align: top;\n",
       "    }\n",
       "\n",
       "    .dataframe thead th {\n",
       "        text-align: right;\n",
       "    }\n",
       "</style>\n",
       "<table border=\"1\" class=\"dataframe\">\n",
       "  <thead>\n",
       "    <tr style=\"text-align: right;\">\n",
       "      <th></th>\n",
       "      <th>qid</th>\n",
       "      <th>question_text</th>\n",
       "      <th>target</th>\n",
       "    </tr>\n",
       "  </thead>\n",
       "  <tbody>\n",
       "    <tr>\n",
       "      <th>0</th>\n",
       "      <td>00002165364db923c7e6</td>\n",
       "      <td>How did Quebec nationalists see their province...</td>\n",
       "      <td>0</td>\n",
       "    </tr>\n",
       "    <tr>\n",
       "      <th>1</th>\n",
       "      <td>000032939017120e6e44</td>\n",
       "      <td>Do you have an adopted dog, how would you enco...</td>\n",
       "      <td>0</td>\n",
       "    </tr>\n",
       "    <tr>\n",
       "      <th>2</th>\n",
       "      <td>0000412ca6e4628ce2cf</td>\n",
       "      <td>Why does velocity affect time? Does velocity a...</td>\n",
       "      <td>0</td>\n",
       "    </tr>\n",
       "    <tr>\n",
       "      <th>3</th>\n",
       "      <td>000042bf85aa498cd78e</td>\n",
       "      <td>How did Otto von Guericke used the Magdeburg h...</td>\n",
       "      <td>0</td>\n",
       "    </tr>\n",
       "    <tr>\n",
       "      <th>4</th>\n",
       "      <td>0000455dfa3e01eae3af</td>\n",
       "      <td>Can I convert montra helicon D to a mountain b...</td>\n",
       "      <td>0</td>\n",
       "    </tr>\n",
       "  </tbody>\n",
       "</table>\n",
       "</div>"
      ],
      "text/plain": [
       "                    qid                                      question_text  \\\n",
       "0  00002165364db923c7e6  How did Quebec nationalists see their province...   \n",
       "1  000032939017120e6e44  Do you have an adopted dog, how would you enco...   \n",
       "2  0000412ca6e4628ce2cf  Why does velocity affect time? Does velocity a...   \n",
       "3  000042bf85aa498cd78e  How did Otto von Guericke used the Magdeburg h...   \n",
       "4  0000455dfa3e01eae3af  Can I convert montra helicon D to a mountain b...   \n",
       "\n",
       "   target  \n",
       "0       0  \n",
       "1       0  \n",
       "2       0  \n",
       "3       0  \n",
       "4       0  "
      ]
     },
     "execution_count": 3,
     "metadata": {},
     "output_type": "execute_result"
    }
   ],
   "source": [
    "# View first five rows\n",
    "train_df.head(5)"
   ]
  },
  {
   "cell_type": "code",
   "execution_count": 4,
   "id": "disturbed-pearl",
   "metadata": {
    "execution": {
     "iopub.execute_input": "2021-06-10T04:08:17.607310Z",
     "iopub.status.busy": "2021-06-10T04:08:17.606461Z",
     "iopub.status.idle": "2021-06-10T04:08:17.613900Z",
     "shell.execute_reply": "2021-06-10T04:08:17.613327Z",
     "shell.execute_reply.started": "2021-06-09T10:25:17.746812Z"
    },
    "papermill": {
     "duration": 0.047296,
     "end_time": "2021-06-10T04:08:17.614038",
     "exception": false,
     "start_time": "2021-06-10T04:08:17.566742",
     "status": "completed"
    },
    "tags": []
   },
   "outputs": [
    {
     "data": {
      "text/plain": [
       "(1306122, 3)"
      ]
     },
     "execution_count": 4,
     "metadata": {},
     "output_type": "execute_result"
    }
   ],
   "source": [
    "# Show dimensions\n",
    "train_df.shape"
   ]
  },
  {
   "cell_type": "code",
   "execution_count": 5,
   "id": "wired-importance",
   "metadata": {
    "execution": {
     "iopub.execute_input": "2021-06-10T04:08:17.724071Z",
     "iopub.status.busy": "2021-06-10T04:08:17.713670Z",
     "iopub.status.idle": "2021-06-10T04:08:20.061327Z",
     "shell.execute_reply": "2021-06-10T04:08:20.061839Z",
     "shell.execute_reply.started": "2021-06-09T10:25:17.75585Z"
    },
    "papermill": {
     "duration": 2.411492,
     "end_time": "2021-06-10T04:08:20.062032",
     "exception": false,
     "start_time": "2021-06-10T04:08:17.650540",
     "status": "completed"
    },
    "tags": []
   },
   "outputs": [
    {
     "name": "stdout",
     "output_type": "stream",
     "text": [
      "Average of Words in Questions: 12.80 (words)\n",
      "Average length of Questions: 70.68 (characters)\n"
     ]
    }
   ],
   "source": [
    "# Show statistics\n",
    "total_word_length = 0\n",
    "for text in train_df['question_text']:\n",
    "    total_word_length += len(text.split())\n",
    "print('Average of Words in Questions: {:.2f} (words)'.format(total_word_length / len(train_df)))\n",
    "\n",
    "total_char_length = 0\n",
    "for text in train_df['question_text']:\n",
    "    total_char_length += len(text)\n",
    "print('Average length of Questions: {:.2f} (characters)'.format(total_char_length / len(train_df)))"
   ]
  },
  {
   "cell_type": "code",
   "execution_count": 6,
   "id": "shared-consideration",
   "metadata": {
    "execution": {
     "iopub.execute_input": "2021-06-10T04:08:20.164922Z",
     "iopub.status.busy": "2021-06-10T04:08:20.154546Z",
     "iopub.status.idle": "2021-06-10T04:08:38.493790Z",
     "shell.execute_reply": "2021-06-10T04:08:38.493204Z",
     "shell.execute_reply.started": "2021-06-09T10:25:19.733564Z"
    },
    "papermill": {
     "duration": 18.394392,
     "end_time": "2021-06-10T04:08:38.493941",
     "exception": false,
     "start_time": "2021-06-10T04:08:20.099549",
     "status": "completed"
    },
    "tags": []
   },
   "outputs": [
    {
     "data": {
      "image/png": "[encoded data removed]",
      "text/plain": [
       "<Figure size 432x288 with 2 Axes>"
      ]
     },
     "metadata": {
      "needs_background": "light"
     },
     "output_type": "display_data"
    }
   ],
   "source": [
    "# Plot histogram of text lengths\n",
    "word_length_list = [len(x.split()) for x in train_df['question_text'] if len(x.split()) < 60]\n",
    "char_length_list = [len(x) for x in train_df['question_text'] if len(x) < 100]\n",
    "fig, axs = plt.subplots(1, 2, sharey=True, tight_layout=True)\n",
    "axs[0].hist(word_length_list, bins=25)\n",
    "axs[0].set_title('Words in Questions')\n",
    "\n",
    "axs[1].hist(char_length_list, bins=25)\n",
    "axs[1].set_title('Length of Questions')\n",
    "plt.show()"
   ]
  },
  {
   "cell_type": "markdown",
   "id": "comic-layout",
   "metadata": {
    "papermill": {
     "duration": 0.036959,
     "end_time": "2021-06-10T04:08:38.569109",
     "exception": false,
     "start_time": "2021-06-10T04:08:38.532150",
     "status": "completed"
    },
    "tags": []
   },
   "source": [
    "# 3. Chuẩn bị dữ liệu train và dữ liệu validate\n",
    "\n",
    "**Problem**\n",
    "\n",
    "Với các bài toán học máy, ta phải train mô hình của mình, cũng như validate lại độ chính xác của nó.\n",
    "\n",
    "**Solution**\n",
    "\n",
    "Ta được cung cấp 1 file csv về bộ dữ liệu train, đây là bộ dữ liệu đã có target của từng câu hỏi. Vì vậy, ta sẽ tách bộ dữ liệu đó thành 2 phần, một phần để train, phần còn lại để test, kiểm tra độ đúng đắn của mô hình.\n",
    "\n",
    "Sử dụng hàm ```train_test_split``` của thư viện **sklearn** để chia bộ dữ liệu.\n",
    "\n",
    "**Discussion**\n",
    "\n",
    "Rõ ràng, ta phải dùng phần lớn dữ liệu cho việc train, tuy nhiên để đảm bảo độ chính xác, cũng không được dùng quá ít dữ liệu cho việc validate. Bộ dữ liệu của bài toán cũng đã khá lớn, nên việc chia tỉ lệ này cũng sẽ không quá ảnh hưởng, ta sẽ chia theo tỉ lệ 9:1."
   ]
  },
  {
   "cell_type": "code",
   "execution_count": 7,
   "id": "australian-makeup",
   "metadata": {
    "execution": {
     "iopub.execute_input": "2021-06-10T04:08:38.649961Z",
     "iopub.status.busy": "2021-06-10T04:08:38.648902Z",
     "iopub.status.idle": "2021-06-10T04:08:39.198243Z",
     "shell.execute_reply": "2021-06-10T04:08:39.197700Z",
     "shell.execute_reply.started": "2021-06-09T10:25:37.199962Z"
    },
    "papermill": {
     "duration": 0.5921,
     "end_time": "2021-06-10T04:08:39.198413",
     "exception": false,
     "start_time": "2021-06-10T04:08:38.606313",
     "status": "completed"
    },
    "tags": []
   },
   "outputs": [],
   "source": [
    "# Create training and validation sets\n",
    "train_dataframe, val_dataframe = train_test_split(train_df, test_size=0.1)"
   ]
  },
  {
   "cell_type": "markdown",
   "id": "saving-sharing",
   "metadata": {
    "papermill": {
     "duration": 0.03867,
     "end_time": "2021-06-10T04:08:39.274216",
     "exception": false,
     "start_time": "2021-06-10T04:08:39.235546",
     "status": "completed"
    },
    "tags": []
   },
   "source": [
    "# **II. Xử lý dữ liệu**"
   ]
  },
  {
   "cell_type": "markdown",
   "id": "interstate-portugal",
   "metadata": {
    "papermill": {
     "duration": 0.038689,
     "end_time": "2021-06-10T04:08:39.351287",
     "exception": false,
     "start_time": "2021-06-10T04:08:39.312598",
     "status": "completed"
    },
    "tags": []
   },
   "source": [
    "# 1. Load bộ Embeddings\n",
    "\n",
    "**Problem**\n",
    "\n",
    "Dữ liệu dạng text không thể dùng để train mô hình học máy được.\n",
    "\n",
    "**Solution**\n",
    "\n",
    "Word Embedding là quá trình đưa các từ trong câu về dạng để mô hình có thể hiểu được. Cụ thể trong bài toán này là từ dạng text, các từ sẽ được chuyển về dạng vectors đặc trưng để đưa vào mô hình.\n",
    "\n",
    "Sử dụng các file Embeddings đã được cho sẵn để vectors hoá dữ liệu.\n",
    "\n",
    "**Discuss**\n",
    "\n",
    "\n",
    "Ở đây ta sẽ sử dụng bộ Embeddings **GoogleNews**"
   ]
  },
  {
   "cell_type": "code",
   "execution_count": 8,
   "id": "comic-beijing",
   "metadata": {
    "execution": {
     "iopub.execute_input": "2021-06-10T04:08:39.433529Z",
     "iopub.status.busy": "2021-06-10T04:08:39.432826Z",
     "iopub.status.idle": "2021-06-10T04:10:17.835152Z",
     "shell.execute_reply": "2021-06-10T04:10:17.834540Z",
     "shell.execute_reply.started": "2021-06-10T04:01:12.132713Z"
    },
    "papermill": {
     "duration": 98.445534,
     "end_time": "2021-06-10T04:10:17.835357",
     "exception": false,
     "start_time": "2021-06-10T04:08:39.389823",
     "status": "completed"
    },
    "tags": []
   },
   "outputs": [],
   "source": [
    "# Load embeddings\n",
    "archive = zipfile.ZipFile('/kaggle/input/quora-insincere-questions-classification/embeddings.zip', 'r')\n",
    "path=archive.open('GoogleNews-vectors-negative300/GoogleNews-vectors-negative300.bin', 'r')\n",
    "\n",
    "embeddings_index = KeyedVectors.load_word2vec_format(path, binary=True)"
   ]
  },
  {
   "cell_type": "markdown",
   "id": "sapphire-graphics",
   "metadata": {
    "papermill": {
     "duration": 0.039641,
     "end_time": "2021-06-10T04:10:17.915493",
     "exception": false,
     "start_time": "2021-06-10T04:10:17.875852",
     "status": "completed"
    },
    "tags": []
   },
   "source": [
    "# 2. Kiểm tra độ phủ của tập Embeddings\n",
    "\n",
    "**Problem**\n",
    "\n",
    "Sẽ có những từ sẽ không xuất hiện trong tập Embeddings. Ta cần kiểm tra độ phủ của tập Embeddings đối với tập các từ trong bộ câu hỏi trong Dataframe.\n",
    "\n",
    "**Solution**\n",
    "\n",
    "Ta cần viết một hàm để xây dựng tập từ vựng cùng với tần xuất suất hiện của từ đó trong bộ câu hỏi.\n",
    "\n",
    "Sau đó, cần viết thêm một hàm để đếm số lượng các từ vựng xuất hiện trong tập Embeddings cũng như độ phủ của chúng trong toàn bộ tập câu hỏi. \n",
    "\n",
    "**Discuss**\n",
    "\n",
    "Ta thấy độ phủ của tập Embeddings trong bộ từ vựng không được cao. \n",
    "\n",
    "Sau khi kiểm tra bộ OOV (out of vocab), ta thấy top 20 từ vựng trong bộ OOV có tần suất xuất hiện cao nhất có chứa các dấu câu cũng như các số."
   ]
  },
  {
   "cell_type": "code",
   "execution_count": 9,
   "id": "dried-contamination",
   "metadata": {
    "execution": {
     "iopub.execute_input": "2021-06-10T04:10:17.999615Z",
     "iopub.status.busy": "2021-06-10T04:10:17.998747Z",
     "iopub.status.idle": "2021-06-10T04:10:18.002986Z",
     "shell.execute_reply": "2021-06-10T04:10:18.002427Z",
     "shell.execute_reply.started": "2021-06-09T10:27:06.764406Z"
    },
    "papermill": {
     "duration": 0.0486,
     "end_time": "2021-06-10T04:10:18.003122",
     "exception": false,
     "start_time": "2021-06-10T04:10:17.954522",
     "status": "completed"
    },
    "tags": []
   },
   "outputs": [],
   "source": [
    "def to_vocab(lines):\n",
    "    vocab = Counter()\n",
    "    for line in tqdm(lines, position=0):\n",
    "        vocab.update(line.split())\n",
    "    return vocab"
   ]
  },
  {
   "cell_type": "code",
   "execution_count": 10,
   "id": "geological-corruption",
   "metadata": {
    "execution": {
     "iopub.execute_input": "2021-06-10T04:10:18.159151Z",
     "iopub.status.busy": "2021-06-10T04:10:18.156846Z",
     "iopub.status.idle": "2021-06-10T04:10:18.160101Z",
     "shell.execute_reply": "2021-06-10T04:10:18.160664Z",
     "shell.execute_reply.started": "2021-06-09T10:27:06.771959Z"
    },
    "papermill": {
     "duration": 0.112911,
     "end_time": "2021-06-10T04:10:18.160847",
     "exception": false,
     "start_time": "2021-06-10T04:10:18.047936",
     "status": "completed"
    },
    "tags": []
   },
   "outputs": [],
   "source": [
    "def check_coverage(vocab, embeddings_index):\n",
    "    embeddings_in_vocab = 0\n",
    "    embeddings_in_all_text = 0\n",
    "    oov_in_all_text = 0\n",
    "    oov = Counter()\n",
    "    \n",
    "    for word in tqdm(vocab, position=0):\n",
    "        if word in embeddings_index:\n",
    "            embeddings_in_vocab += 1\n",
    "            embeddings_in_all_text += vocab[word]    \n",
    "        else:\n",
    "            oov[word] = vocab[word]\n",
    "            oov_in_all_text += vocab[word]\n",
    "\n",
    "    print('Found embeddings for {:.2%} of vocab'.format(embeddings_in_vocab / len(vocab)))\n",
    "    print('Found embeddings for {:.2%} of all text'.format(embeddings_in_all_text / (embeddings_in_all_text + oov_in_all_text)))\n",
    "    \n",
    "    return oov"
   ]
  },
  {
   "cell_type": "code",
   "execution_count": 11,
   "id": "latter-ordinance",
   "metadata": {
    "execution": {
     "iopub.execute_input": "2021-06-10T04:10:18.246500Z",
     "iopub.status.busy": "2021-06-10T04:10:18.245166Z",
     "iopub.status.idle": "2021-06-10T04:10:28.087510Z",
     "shell.execute_reply": "2021-06-10T04:10:28.085552Z",
     "shell.execute_reply.started": "2021-06-09T10:27:06.857607Z"
    },
    "papermill": {
     "duration": 9.886645,
     "end_time": "2021-06-10T04:10:28.087725",
     "exception": false,
     "start_time": "2021-06-10T04:10:18.201080",
     "status": "completed"
    },
    "tags": []
   },
   "outputs": [
    {
     "name": "stderr",
     "output_type": "stream",
     "text": [
      "100%|██████████| 1306122/1306122 [00:08<00:00, 152529.66it/s]\n",
      "100%|██████████| 508823/508823 [00:01<00:00, 402434.94it/s]"
     ]
    },
    {
     "name": "stdout",
     "output_type": "stream",
     "text": [
      "Found embeddings for 24.31% of vocab\n",
      "Found embeddings for 78.75% of all text\n"
     ]
    },
    {
     "name": "stderr",
     "output_type": "stream",
     "text": [
      "\n"
     ]
    }
   ],
   "source": [
    "vocab = to_vocab(train_df['question_text'])\n",
    "oov = check_coverage(vocab, embeddings_index)"
   ]
  },
  {
   "cell_type": "code",
   "execution_count": 12,
   "id": "joined-degree",
   "metadata": {
    "execution": {
     "iopub.execute_input": "2021-06-10T04:10:28.257970Z",
     "iopub.status.busy": "2021-06-10T04:10:28.247795Z",
     "iopub.status.idle": "2021-06-10T04:10:28.319633Z",
     "shell.execute_reply": "2021-06-10T04:10:28.320163Z",
     "shell.execute_reply.started": "2021-06-09T10:27:16.806326Z"
    },
    "papermill": {
     "duration": 0.159348,
     "end_time": "2021-06-10T04:10:28.320379",
     "exception": false,
     "start_time": "2021-06-10T04:10:28.161031",
     "status": "completed"
    },
    "tags": []
   },
   "outputs": [
    {
     "data": {
      "text/plain": [
       "[('to', 403183),\n",
       " ('a', 402682),\n",
       " ('of', 330825),\n",
       " ('and', 251973),\n",
       " ('India?', 16384),\n",
       " ('it?', 12900),\n",
       " ('do?', 8753),\n",
       " ('life?', 7753),\n",
       " ('you?', 6295),\n",
       " ('me?', 6202),\n",
       " ('them?', 6140),\n",
       " ('time?', 5716),\n",
       " ('world?', 5386),\n",
       " ('people?', 4971),\n",
       " ('why?', 4943),\n",
       " ('Quora?', 4655),\n",
       " ('10', 4591),\n",
       " ('like?', 4487),\n",
       " ('for?', 4450),\n",
       " ('work?', 4206),\n",
       " ('2017?', 4050),\n",
       " ('mean?', 3971),\n",
       " ('2018?', 3594),\n",
       " ('country?', 3422),\n",
       " ('now?', 3354)]"
      ]
     },
     "execution_count": 12,
     "metadata": {},
     "output_type": "execute_result"
    }
   ],
   "source": [
    "oov.most_common(25)"
   ]
  },
  {
   "cell_type": "markdown",
   "id": "maritime-acoustic",
   "metadata": {
    "papermill": {
     "duration": 0.073279,
     "end_time": "2021-06-10T04:10:28.468917",
     "exception": false,
     "start_time": "2021-06-10T04:10:28.395638",
     "status": "completed"
    },
    "tags": []
   },
   "source": [
    "# 3. Xử lý dữ liệu dạng text\n",
    "\n",
    "### a. Loại bỏ dấu câu và chữ số\n",
    "\n",
    "**Problem**\n",
    "\n",
    "Cần xử lý dấu câu và chữ số xuất hiện trong bộ câu hỏi để tăng độ phủ của tập Embeddings.\n",
    "\n",
    "**Solution**\n",
    "\n",
    "Ta sử dụng 2 thư viện **string** và **unicodedata** để xây dựng list các dấu câu. \n",
    "\n",
    "Sau đó kiểm tra từng câu hỏi, với mỗi dấu câu xuất hiện trong câu hỏi, nếu nó cũng xuất hiện trong tập Embeddings thì giữ lại, không thì bỏ nó khỏi đoạn text. \n",
    "\n",
    "Tương tự với các chữ số, chỉ giữ lại các số nhỏ hơn 10 (vì nó tồn tại trong tập Embeddings), còn lại thì bỏ đi.\n",
    "\n",
    "\n",
    "**Discuss**\n",
    "\n",
    "Cần chú ý rằng không nên loại bó toàn bộ dấu câu và chữ số. Bởi vì các dấu câu và chữ số cũng sẽ mang sắc thái cho câu hỏi và tăng giá trị của feature (VD: \"*Let's eat, grandpa*\" và \"*Let's eat grandpa*\" mang 2 ý nghĩa khác nhau hoàn toàn).\n",
    "\n",
    "Như ở đây ta có thể kiểm tra thấy dấu \"?\" không tồn tại trong tập Embeddings trong khi dấu \"+\" thì có.\n",
    "\n",
    "Sau khi xử lý qua 2 bước trên, kiểm tra lại ta thấy độ phủ của tập Embeddings đã tăng lên rất nhiều.\n",
    "\n",
    "Trong đó top 20 từ vựng phổ biến nhất trong tập OOV có chứa những từ gây nhầm lẫn mà ta có thể xử lý được. Ví dụ những từ bị sai chính tả như **favourite**, những từ không tồn tại trong tập embeddings như **bitcoin** hay những từ được viết tắt như **Brexit**, ta có thể thay thế những từ này bằng những từ có ý nghĩa tương tự nhưng có tồn tại trong tập Embeddings."
   ]
  },
  {
   "cell_type": "code",
   "execution_count": 13,
   "id": "faced-cruise",
   "metadata": {
    "execution": {
     "iopub.execute_input": "2021-06-10T04:10:28.621421Z",
     "iopub.status.busy": "2021-06-10T04:10:28.620627Z",
     "iopub.status.idle": "2021-06-10T04:10:28.626693Z",
     "shell.execute_reply": "2021-06-10T04:10:28.625995Z",
     "shell.execute_reply.started": "2021-06-10T04:02:48.870797Z"
    },
    "papermill": {
     "duration": 0.084938,
     "end_time": "2021-06-10T04:10:28.626846",
     "exception": false,
     "start_time": "2021-06-10T04:10:28.541908",
     "status": "completed"
    },
    "tags": []
   },
   "outputs": [
    {
     "name": "stdout",
     "output_type": "stream",
     "text": [
      "? in embeddings_index:  False\n",
      "+ in embeddings_index:  True\n"
     ]
    }
   ],
   "source": [
    "# Check the presence of punctuations in embeddings_index\n",
    "print('? in embeddings_index: ', '?' in embeddings_index)\n",
    "print('+ in embeddings_index: ', '+' in embeddings_index)"
   ]
  },
  {
   "cell_type": "code",
   "execution_count": 14,
   "id": "political-smith",
   "metadata": {
    "execution": {
     "iopub.execute_input": "2021-06-10T04:10:28.792074Z",
     "iopub.status.busy": "2021-06-10T04:10:28.781776Z",
     "iopub.status.idle": "2021-06-10T04:10:29.328531Z",
     "shell.execute_reply": "2021-06-10T04:10:29.327694Z",
     "shell.execute_reply.started": "2021-06-10T04:02:48.881776Z"
    },
    "papermill": {
     "duration": 0.628169,
     "end_time": "2021-06-10T04:10:29.328723",
     "exception": false,
     "start_time": "2021-06-10T04:10:28.700554",
     "status": "completed"
    },
    "tags": []
   },
   "outputs": [],
   "source": [
    "# Build the list of punctuations\n",
    "punctuation = [chr(i) for i in range(sys.maxunicode) if unicodedata.category(chr(i)).startswith('P')]\n",
    "for punct in string.punctuation:\n",
    "    if punct not in punctuation:\n",
    "        punctuation.append(punct)\n",
    "punctuation_in_embeddings = [punct for punct in punctuation if punct in embeddings_index]\n",
    "punctuation_not_in_embeddings = [punct for punct in punctuation if punct not in embeddings_index]"
   ]
  },
  {
   "cell_type": "code",
   "execution_count": 15,
   "id": "characteristic-nicaragua",
   "metadata": {
    "execution": {
     "iopub.execute_input": "2021-06-10T04:10:29.481635Z",
     "iopub.status.busy": "2021-06-10T04:10:29.480565Z",
     "iopub.status.idle": "2021-06-10T04:10:29.484172Z",
     "shell.execute_reply": "2021-06-10T04:10:29.483625Z",
     "shell.execute_reply.started": "2021-06-10T04:06:14.211161Z"
    },
    "papermill": {
     "duration": 0.082243,
     "end_time": "2021-06-10T04:10:29.484337",
     "exception": false,
     "start_time": "2021-06-10T04:10:29.402094",
     "status": "completed"
    },
    "tags": []
   },
   "outputs": [],
   "source": [
    "# Remove punctuations from text\n",
    "def clean_text(x):\n",
    "    for punct in punctuation_not_in_embeddings:\n",
    "        x = x.replace(punct, ' ')\n",
    "    for punct in punctuation_in_embeddings:\n",
    "        x = x.replace(punct, f' {punct} ')\n",
    "    return x\n",
    "\n",
    "# Remove numbers from text\n",
    "def clean_numbers(x):\n",
    "    return re.sub('[0-9]{2}', ' ', x)"
   ]
  },
  {
   "cell_type": "code",
   "execution_count": 16,
   "id": "pointed-embassy",
   "metadata": {
    "execution": {
     "iopub.execute_input": "2021-06-10T04:10:29.637656Z",
     "iopub.status.busy": "2021-06-10T04:10:29.636650Z",
     "iopub.status.idle": "2021-06-10T04:13:16.804947Z",
     "shell.execute_reply": "2021-06-10T04:13:16.805555Z",
     "shell.execute_reply.started": "2021-06-09T10:27:17.432883Z"
    },
    "papermill": {
     "duration": 167.247691,
     "end_time": "2021-06-10T04:13:16.805786",
     "exception": false,
     "start_time": "2021-06-10T04:10:29.558095",
     "status": "completed"
    },
    "tags": []
   },
   "outputs": [
    {
     "name": "stderr",
     "output_type": "stream",
     "text": [
      "100%|██████████| 1306122/1306122 [02:41<00:00, 8110.11it/s]\n",
      "100%|██████████| 1306122/1306122 [00:06<00:00, 215208.00it/s]\n"
     ]
    }
   ],
   "source": [
    "sentences = train_df[\"question_text\"]\n",
    "\n",
    "# Clean punctations in questions set\n",
    "sentences = [clean_text(x) for x in tqdm(sentences, position=0)]\n",
    "\n",
    "# Clean numbers in questions set\n",
    "sentences = [clean_numbers(x) for x in tqdm(sentences, position=0)]"
   ]
  },
  {
   "cell_type": "code",
   "execution_count": 17,
   "id": "tough-condition",
   "metadata": {
    "execution": {
     "iopub.execute_input": "2021-06-10T04:13:18.030905Z",
     "iopub.status.busy": "2021-06-10T04:13:18.029862Z",
     "iopub.status.idle": "2021-06-10T04:13:26.305348Z",
     "shell.execute_reply": "2021-06-10T04:13:26.306455Z",
     "shell.execute_reply.started": "2021-06-09T10:29:41.820169Z"
    },
    "papermill": {
     "duration": 8.888437,
     "end_time": "2021-06-10T04:13:26.306740",
     "exception": false,
     "start_time": "2021-06-10T04:13:17.418303",
     "status": "completed"
    },
    "tags": []
   },
   "outputs": [
    {
     "name": "stderr",
     "output_type": "stream",
     "text": [
      "100%|██████████| 1306122/1306122 [00:07<00:00, 171080.58it/s]\n",
      "100%|██████████| 229244/229244 [00:00<00:00, 377726.79it/s]"
     ]
    },
    {
     "name": "stdout",
     "output_type": "stream",
     "text": [
      "Found embeddings for 63.49% of vocab\n",
      "Found embeddings for 90.86% of all text\n"
     ]
    },
    {
     "name": "stderr",
     "output_type": "stream",
     "text": [
      "\n"
     ]
    }
   ],
   "source": [
    "vocab = to_vocab(sentences)\n",
    "oov = check_coverage(vocab, embeddings_index)"
   ]
  },
  {
   "cell_type": "code",
   "execution_count": 18,
   "id": "tired-wichita",
   "metadata": {
    "execution": {
     "iopub.execute_input": "2021-06-10T04:13:27.809884Z",
     "iopub.status.busy": "2021-06-10T04:13:27.804742Z",
     "iopub.status.idle": "2021-06-10T04:13:27.820191Z",
     "shell.execute_reply": "2021-06-10T04:13:27.819713Z",
     "shell.execute_reply.started": "2021-06-09T10:29:50.261762Z"
    },
    "papermill": {
     "duration": 0.689658,
     "end_time": "2021-06-10T04:13:27.820373",
     "exception": false,
     "start_time": "2021-06-10T04:13:27.130715",
     "status": "completed"
    },
    "tags": []
   },
   "outputs": [
    {
     "data": {
      "text/plain": [
       "[('to', 406428),\n",
       " ('a', 404826),\n",
       " ('of', 333021),\n",
       " ('and', 254200),\n",
       " ('favourite', 1247),\n",
       " ('bitcoin', 991),\n",
       " ('colour', 978),\n",
       " ('centre', 889),\n",
       " ('Quorans', 856),\n",
       " ('cryptocurrency', 821),\n",
       " ('Snapchat', 809),\n",
       " ('travelling', 705),\n",
       " ('counselling', 634),\n",
       " ('Brexit', 493),\n",
       " ('btech', 485),\n",
       " ('cryptocurrencies', 481),\n",
       " ('blockchain', 481),\n",
       " ('behaviour', 470),\n",
       " ('upvotes', 432),\n",
       " ('programme', 403)]"
      ]
     },
     "execution_count": 18,
     "metadata": {},
     "output_type": "execute_result"
    }
   ],
   "source": [
    "oov.most_common(20)"
   ]
  },
  {
   "cell_type": "markdown",
   "id": "enhanced-scottish",
   "metadata": {
    "papermill": {
     "duration": 0.641293,
     "end_time": "2021-06-10T04:13:29.096198",
     "exception": false,
     "start_time": "2021-06-10T04:13:28.454905",
     "status": "completed"
    },
    "tags": []
   },
   "source": [
    "### b. Xử lý dữ liệu bị thiếu\n",
    "\n",
    "**Problem**\n",
    "\n",
    "Cần thay thế những từ OOV trong bộ câu hỏi thành những từ có cùng ý nghĩa ở trong bộ Embeddings.\n",
    "\n",
    "**Solution**\n",
    "\n",
    "Một số phương pháp có thể được áp dụng:\n",
    "\n",
    "* Trước tên ta thấy có những từ được viết bằng tiếng Anh-Anh, ta có thể chuyển sang từ Anh-Mỹ (Ví dụ: chuyển **favourite** thành **favorite**).\n",
    "* Tiếp theo, ta cũng thấy có những từ đã bị chia thì làm cho nó mất đi ý nghĩa gốc của nó, ta sẽ phải chuyển nó về dạng từ nguyên thể (Ví dụ: chuyển **travelling** thành **travel**)\n",
    "* Thêm nữa, sẽ có những từ được viết tắt, ta có thể viết nó ở dạng đầy đủ (Ví dụ: chuyển **Paytm** thành **Pay Through Mobile**)\n",
    "* Cuối cùng, với những từ không có trong tập Embeddings, ta có thể quy nó về một từ mang ý nghĩa tương tự và xuất hiện trong tập Embeddings (Ví dụ: chuyển **Snapchat** thành **socialmedia**)\n",
    "\n",
    "Bước này, ta phải lập một bộ từ điển bằng cách in ra top những từ phổ biến nhất trong tập OOV, chọn những từ mà ta có thể \n",
    "thay thế được, loại bỏ nó ra khỏi câu rồi lặp đi lặp lại bước trên cho đến khi độ phủ của Embeddings bị chững lại và không còn tăng lên nữa, khi đó ta sẽ xây dựng được bộ từ điển tốt nhất.\n",
    "\n",
    "**Discuss**\n",
    "\n",
    "Ta cũng thấy top 4 từ phổ biến nhất trong tập OOV là [to, a , of, an], đây là những từ không mang giá trị khi phân loại, ta có thể bỏ luôn 4 từ này đi.\n",
    "\n",
    "Sau khi hoàn thành xử lý dữ liệu bị thiếu, ta thấy độ phủ cũng đã đạt được kết quả khá tốt."
   ]
  },
  {
   "cell_type": "code",
   "execution_count": 19,
   "id": "leading-photographer",
   "metadata": {
    "execution": {
     "iopub.execute_input": "2021-06-10T04:13:30.382545Z",
     "iopub.status.busy": "2021-06-10T04:13:30.381452Z",
     "iopub.status.idle": "2021-06-10T04:13:30.388618Z",
     "shell.execute_reply": "2021-06-10T04:13:30.387593Z",
     "shell.execute_reply.started": "2021-06-09T10:29:50.287993Z"
    },
    "papermill": {
     "duration": 0.650976,
     "end_time": "2021-06-10T04:13:30.388859",
     "exception": false,
     "start_time": "2021-06-10T04:13:29.737883",
     "status": "completed"
    },
    "tags": []
   },
   "outputs": [
    {
     "name": "stdout",
     "output_type": "stream",
     "text": [
      "'favourite' in embeddings_index:   False\n",
      "'favorite' in embeddings_index:     True\n",
      "----------------------------------------\n",
      "'travelling' in embeddings_index:  False\n",
      "'travel' in embeddings_index:       True\n",
      "----------------------------------------\n",
      "'Snapchat' in embeddings_index:    False\n",
      "'socialmedia' in embeddings_index:  True\n"
     ]
    }
   ],
   "source": [
    "print(\"'favourite' in embeddings_index:  \", 'favourite' in embeddings_index)\n",
    "print(\"'favorite' in embeddings_index:    \", 'favorite' in embeddings_index)\n",
    "print('----------------------------------------')\n",
    "print(\"'travelling' in embeddings_index: \", 'travelling' in embeddings_index)\n",
    "print(\"'travel' in embeddings_index:      \", 'travel' in embeddings_index)\n",
    "print('----------------------------------------')\n",
    "print(\"'Snapchat' in embeddings_index:   \", 'Snapchat' in embeddings_index)\n",
    "print(\"'socialmedia' in embeddings_index: \", 'socialmedia' in embeddings_index)"
   ]
  },
  {
   "cell_type": "code",
   "execution_count": 20,
   "id": "interim-passage",
   "metadata": {
    "execution": {
     "iopub.execute_input": "2021-06-10T04:13:31.723352Z",
     "iopub.status.busy": "2021-06-10T04:13:31.722394Z",
     "iopub.status.idle": "2021-06-10T04:13:31.726472Z",
     "shell.execute_reply": "2021-06-10T04:13:31.727039Z",
     "shell.execute_reply.started": "2021-06-09T10:29:50.305514Z"
    },
    "papermill": {
     "duration": 0.704084,
     "end_time": "2021-06-10T04:13:31.727210",
     "exception": false,
     "start_time": "2021-06-10T04:13:31.023126",
     "status": "completed"
    },
    "tags": []
   },
   "outputs": [],
   "source": [
    "confuse_dict = {\n",
    "    'grey': 'gray',\n",
    "    'litre': 'liter',\n",
    "    'labour': 'labor',\n",
    "    'favour': 'favor',\n",
    "    'colour': 'color',\n",
    "    'centre': 'center',\n",
    "    'honours': 'honor',\n",
    "    'theatre': 'theater',\n",
    "    'realise': 'realize',\n",
    "    'defence': 'defense',\n",
    "    'licence': 'license',\n",
    "    'analyse': 'analyze',\n",
    "    'practise': 'practice',\n",
    "    'behaviour': 'behavior',\n",
    "    'neighbour': 'neighbor',\n",
    "    'recognise': 'recognize',\n",
    "    'organisation':'organization',\n",
    "    \n",
    "    'Qoura': 'Quora',\n",
    "    'quora': 'Quora',\n",
    "    'Quorans': 'Quoran',\n",
    "    'infty': 'infinity',\n",
    "    'judgement': 'judge',\n",
    "    \n",
    "    'isnt': 'is not',\n",
    "    'didnt': 'did not',\n",
    "    'Whatis': 'what is',\n",
    "    'doesnt': 'does not',\n",
    "    \n",
    "    'learnt': 'learn',\n",
    "    'modelling': 'model',\n",
    "    'cancelled': 'cancel',\n",
    "    'travelled': 'travell',\n",
    "    'travelling': 'travel',\n",
    "    'aluminium': 'alumini',\n",
    "    'counselling':'counseling',\n",
    "    \n",
    "    'cheque': 'bill',\n",
    "    'upvote': 'agree',\n",
    "    'upvotes': 'agree',\n",
    "    'vape': 'cigarette',\n",
    "    'jewellery': 'jewell',\n",
    "    'Fiverr': 'freelance',\n",
    "    'programd': 'program',\n",
    "    'programme': 'program',\n",
    "    'programr': 'programer',\n",
    "    'programrs': 'programer',\n",
    "    'WeChat': 'socialmedia',\n",
    "    'Snapchat': 'socialmedia',\n",
    "    'Redmi': 'cellphone',\n",
    "    'Xiaomi': 'cellphone',\n",
    "    'OnePlus': 'cellphone',\n",
    "    'cryptos': 'crypto',\n",
    "    'bitcoin': 'crypto',\n",
    "    'Coinbase': 'crypto',\n",
    "    'bitcoins': 'crypto',\n",
    "    'ethereum': 'crypto',\n",
    "    'Ethereum': 'crypto',\n",
    "    'Blockchain': 'crypto',\n",
    "    'blockchain': 'crypto',\n",
    "    'cryptocurrency': 'crypto',\n",
    "    'cryptocurrencies': 'crypto',\n",
    "\n",
    "    '₹': 'rupee',\n",
    "    'Brexit': 'Britain exit',\n",
    "    'Paytm': 'Pay Through Mobile',\n",
    "    'KVPY': 'Kishore Vaigyanik Protsahan Yojana',\n",
    "    'GDPR': 'General Data Protection Regulation',\n",
    "    'INTJ': 'Introversion Intuition Thinking Judgment',\n",
    "}\n",
    "\n",
    "def _get_confuse(confuse_dict):\n",
    "    confuse_re = re.compile('(%s)' % '|'.join(confuse_dict.keys()))\n",
    "    return confuse_dict, confuse_re\n",
    "\n",
    "def replace_confuse(text):\n",
    "    confuse, confuse_re = _get_confuse(confuse_dict)\n",
    "    def replace(match):\n",
    "        return confuse[match.group(0)]\n",
    "    return confuse_re.sub(replace, text)\n",
    "\n",
    "def replace_useless(text):\n",
    "    text_list = text.split()\n",
    "    text_list = [text for text in text_list if text not in ['a', 'to', 'of', 'and']]\n",
    "    return \" \".join(text_list)"
   ]
  },
  {
   "cell_type": "code",
   "execution_count": 21,
   "id": "reliable-chick",
   "metadata": {
    "execution": {
     "iopub.execute_input": "2021-06-10T04:13:33.539683Z",
     "iopub.status.busy": "2021-06-10T04:13:33.538631Z",
     "iopub.status.idle": "2021-06-10T04:14:17.916554Z",
     "shell.execute_reply": "2021-06-10T04:14:17.917071Z",
     "shell.execute_reply.started": "2021-06-09T10:29:50.414639Z"
    },
    "papermill": {
     "duration": 45.510897,
     "end_time": "2021-06-10T04:14:17.917314",
     "exception": false,
     "start_time": "2021-06-10T04:13:32.406417",
     "status": "completed"
    },
    "tags": []
   },
   "outputs": [
    {
     "name": "stderr",
     "output_type": "stream",
     "text": [
      "100%|██████████| 1306122/1306122 [00:05<00:00, 240608.78it/s]\n",
      "100%|██████████| 1306122/1306122 [00:30<00:00, 42473.58it/s]\n",
      "100%|██████████| 1306122/1306122 [00:07<00:00, 170063.49it/s]\n",
      "100%|██████████| 229080/229080 [00:00<00:00, 458911.01it/s]"
     ]
    },
    {
     "name": "stdout",
     "output_type": "stream",
     "text": [
      "Found embeddings for 63.52% of vocab\n",
      "Found embeddings for 99.15% of all text\n"
     ]
    },
    {
     "name": "stderr",
     "output_type": "stream",
     "text": [
      "\n"
     ]
    }
   ],
   "source": [
    "sentences = [replace_useless(x) for x in tqdm(sentences, position=0)]\n",
    "sentences = [replace_confuse(x) for x in tqdm(sentences, position=0)]\n",
    "vocab = to_vocab(sentences)\n",
    "oov = check_coverage(vocab, embeddings_index)"
   ]
  },
  {
   "cell_type": "markdown",
   "id": "miniature-throw",
   "metadata": {
    "execution": {
     "iopub.execute_input": "2021-06-09T07:25:29.322117Z",
     "iopub.status.busy": "2021-06-09T07:25:29.321659Z",
     "iopub.status.idle": "2021-06-09T07:25:29.326241Z",
     "shell.execute_reply": "2021-06-09T07:25:29.325034Z",
     "shell.execute_reply.started": "2021-06-09T07:25:29.322049Z"
    },
    "papermill": {
     "duration": 0.784171,
     "end_time": "2021-06-10T04:14:19.485944",
     "exception": false,
     "start_time": "2021-06-10T04:14:18.701773",
     "status": "completed"
    },
    "tags": []
   },
   "source": [
    "# **III. Huấn luyện mô hình**"
   ]
  },
  {
   "cell_type": "markdown",
   "id": "surprised-methodology",
   "metadata": {
    "papermill": {
     "duration": 0.8292,
     "end_time": "2021-06-10T04:14:21.105269",
     "exception": false,
     "start_time": "2021-06-10T04:14:20.276069",
     "status": "completed"
    },
    "tags": []
   },
   "source": [
    "# 1. Data Generator\n",
    "\n",
    "**Problem**\n",
    "\n",
    "Bộ dữ liệu quá lớn, nếu train model cùng một lúc sẽ dẫn đến việc tràn bộ nhớ và làm cho notebook phải khởi động lại.\n",
    "\n",
    "**Solution**\n",
    "\n",
    "Ta cần chia nhỏ tập train thành từng batch để huấn luyện dần. Batch_size càng lớn càng tốn tài nguyên tính toán trong quá trình huấn luyện. Ta sẽ lấy ngẫu nhiên và không lặp lại batch_size bộ dữ liệu từ tập huấn luyện.\n",
    "\n",
    "Trong mỗi batch sẽ chứa 2 trường thông tin:\n",
    "* Features vectors: là vector Embeddings của bộ câu hỏi\n",
    "* Target: là list mang giá trị 0 hoặc 1 thể hiện câu hỏi có toxic hay không.\n",
    "\n",
    "**Discuss**\n",
    "\n",
    "Trước khi đưa về dạng vector các câu cần được chuẩn hóa về độ dài. Việc thay đổi độ dài cũng sẽ ảnh hưởng khá lớn đến kết quả bởi nếu số lượng từ nhỏ sẽ có quá nhiều từ trong tập mẫu sẽ không có trong từ điển, còn số lượng từ quá nhiều sẽ làm độ phức tạp tính toán sẽ tăng lên. \n",
    "\n",
    "Từ histogram về số lượng các từ có trong câu mà ta đã có ở bước trước, nhận thấy chỉ cần lấy 30 từ đầu tiên của câu hỏi cũng có thể mang lại một kết quả tốt. \n",
    "\n",
    "\n"
   ]
  },
  {
   "cell_type": "code",
   "execution_count": 22,
   "id": "christian-columbia",
   "metadata": {
    "execution": {
     "iopub.execute_input": "2021-06-10T04:14:22.941510Z",
     "iopub.status.busy": "2021-06-10T04:14:22.940473Z",
     "iopub.status.idle": "2021-06-10T04:14:22.944145Z",
     "shell.execute_reply": "2021-06-10T04:14:22.943600Z",
     "shell.execute_reply.started": "2021-06-09T10:30:27.001331Z"
    },
    "papermill": {
     "duration": 0.798407,
     "end_time": "2021-06-10T04:14:22.944298",
     "exception": false,
     "start_time": "2021-06-10T04:14:22.145891",
     "status": "completed"
    },
    "tags": []
   },
   "outputs": [],
   "source": [
    "SEQ_LEN = 30\n",
    "batch_size = 256\n",
    "empyt_emb = np.zeros(len(embeddings_index['random']))\n",
    "\n",
    "def text_to_array(text):\n",
    "    text = ' '.join(text.split()[:SEQ_LEN])\n",
    "    text = text.split()\n",
    "    embeds = [embeddings_index[x] for x in text if x in embeddings_index]\n",
    "    embeds += [empyt_emb] * (SEQ_LEN - len(embeds))\n",
    "    return np.array(embeds, dtype=float)\n",
    "\n",
    "def batch_gen(train_df):\n",
    "    n_batches = math.ceil(len(train_df) / batch_size)\n",
    "    while True: \n",
    "        train_df = train_df.sample(frac=1.) \n",
    "        for i in range(n_batches):\n",
    "            texts = train_df.iloc[i * batch_size: (i + 1) * batch_size, 1]\n",
    "            text_arr = np.array([text_to_array(text) for text in texts])\n",
    "            yield text_arr, np.array(train_df[\"target\"][i * batch_size:(i + 1) * batch_size])"
   ]
  },
  {
   "cell_type": "code",
   "execution_count": 23,
   "id": "christian-maple",
   "metadata": {
    "execution": {
     "iopub.execute_input": "2021-06-10T04:14:24.544152Z",
     "iopub.status.busy": "2021-06-10T04:14:24.543072Z",
     "iopub.status.idle": "2021-06-10T04:14:25.949050Z",
     "shell.execute_reply": "2021-06-10T04:14:25.948362Z",
     "shell.execute_reply.started": "2021-06-09T10:30:27.017203Z"
    },
    "papermill": {
     "duration": 2.223425,
     "end_time": "2021-06-10T04:14:25.949219",
     "exception": false,
     "start_time": "2021-06-10T04:14:23.725794",
     "status": "completed"
    },
    "tags": []
   },
   "outputs": [
    {
     "name": "stderr",
     "output_type": "stream",
     "text": [
      "100%|██████████| 10000/10000 [00:01<00:00, 8978.44it/s]\n"
     ]
    }
   ],
   "source": [
    "val_size = 10000\n",
    "val_vects = np.array([\n",
    "    text_to_array(X_text) for X_text in tqdm(\n",
    "        val_dataframe[\"question_text\"][:val_size],\n",
    "        position=0\n",
    "    )\n",
    "], dtype=float)\n",
    "val_y = np.array(val_dataframe[\"target\"][:val_size], dtype='int32')\n",
    "\n",
    "train_data = batch_gen(train_dataframe)\n",
    "validation_data=(val_vects, val_y)"
   ]
  },
  {
   "cell_type": "markdown",
   "id": "eastern-questionnaire",
   "metadata": {
    "papermill": {
     "duration": 0.787017,
     "end_time": "2021-06-10T04:14:27.520083",
     "exception": false,
     "start_time": "2021-06-10T04:14:26.733066",
     "status": "completed"
    },
    "tags": []
   },
   "source": [
    "# 2. Xây dựng mô hình\n",
    "\n",
    "**Problem**\n",
    "\n",
    "Xây dựng mô hình để huấn luyện học máy.\n",
    "\n",
    "**Solution**\n",
    "\n",
    "Với những bài toán thuộc dạng Sequence Classification, ta có thể sử dụng mạng long short-term memory (LSTM) để xử lý.\n",
    "\n",
    "Mô hình bao gồm:\n",
    "* Layer LSTM với 128 units, cho phép thông tin từ input trước được sử dụng trong tương lai.\n",
    "* Bởi vì đây là bài toán binary classification nên ta sẽ thêm output layer với 1 unit và 1 sigmoid activation function.\n",
    "\n",
    "Compile model với loss function *binary_crossentropy* và thuật toán *Adam optimization*.\n",
    "\n",
    "Một khi model đã được compile, nó có thể được *fit*.\n",
    "\n",
    "**Discuss**\n",
    "\n",
    "Một trong những điểm yếu lớn nhất của mô hình LSTM là giới hạn của bộ nhớ. Với việc tạo ra batch generate ở bước trước, ta đã xử lý được vấn đề này.\n",
    "\n",
    "Trong quá trình *fit*, mỗi **epoch** có thể được phân vùng thành các cặp pattern input-output được gọi là **batch**. Việc này xác định số lượng pattern mà mạng sẽ tiếp xúc trước khi trọng số được cập nhập trong **epoch**. Và nó cũng sẽ xử lý được vấn đề quá nhiều pattern được load vào bộ nhớ cùng 1 lúc."
   ]
  },
  {
   "cell_type": "code",
   "execution_count": 24,
   "id": "closed-commerce",
   "metadata": {
    "execution": {
     "iopub.execute_input": "2021-06-10T04:14:29.097351Z",
     "iopub.status.busy": "2021-06-10T04:14:29.096478Z",
     "iopub.status.idle": "2021-06-10T04:14:31.673067Z",
     "shell.execute_reply": "2021-06-10T04:14:31.672498Z",
     "shell.execute_reply.started": "2021-06-09T10:33:55.679067Z"
    },
    "papermill": {
     "duration": 3.375931,
     "end_time": "2021-06-10T04:14:31.673240",
     "exception": false,
     "start_time": "2021-06-10T04:14:28.297309",
     "status": "completed"
    },
    "tags": []
   },
   "outputs": [],
   "source": [
    "# Start neural network\n",
    "model = Sequential()\n",
    "\n",
    "# Add a long short-term memory layer with 128 units\n",
    "model.add(LSTM(units=128))\n",
    "\n",
    "# Add fully connected layer with a sigmoid activation function\n",
    "model.add(Dense(1, activation=\"sigmoid\"))\n",
    "\n",
    "# Compile neural network\n",
    "model.compile(loss='binary_crossentropy', # Cross-entropy\n",
    "              optimizer='adam', # Adam optimization\n",
    "              metrics=['accuracy']) # Accuracy performance metric"
   ]
  },
  {
   "cell_type": "code",
   "execution_count": 25,
   "id": "dimensional-television",
   "metadata": {
    "execution": {
     "iopub.execute_input": "2021-06-10T04:14:33.590089Z",
     "iopub.status.busy": "2021-06-10T04:14:33.589221Z",
     "iopub.status.idle": "2021-06-10T04:26:53.591148Z",
     "shell.execute_reply": "2021-06-10T04:26:53.592504Z",
     "shell.execute_reply.started": "2021-06-09T10:33:57.754508Z"
    },
    "papermill": {
     "duration": 740.803618,
     "end_time": "2021-06-10T04:26:53.592766",
     "exception": false,
     "start_time": "2021-06-10T04:14:32.789148",
     "status": "completed"
    },
    "tags": []
   },
   "outputs": [
    {
     "name": "stdout",
     "output_type": "stream",
     "text": [
      "Epoch 1/20\n",
      "1000/1000 [==============================] - 41s 38ms/step - loss: 0.1888 - accuracy: 0.9387 - val_loss: 0.1325 - val_accuracy: 0.9501\n",
      "Epoch 2/20\n",
      "1000/1000 [==============================] - 36s 36ms/step - loss: 0.1319 - accuracy: 0.9503 - val_loss: 0.1304 - val_accuracy: 0.9505\n",
      "Epoch 3/20\n",
      "1000/1000 [==============================] - 37s 37ms/step - loss: 0.1285 - accuracy: 0.9503 - val_loss: 0.1265 - val_accuracy: 0.9513\n",
      "Epoch 4/20\n",
      "1000/1000 [==============================] - 37s 37ms/step - loss: 0.1251 - accuracy: 0.9523 - val_loss: 0.1232 - val_accuracy: 0.9531\n",
      "Epoch 5/20\n",
      "1000/1000 [==============================] - 36s 36ms/step - loss: 0.1241 - accuracy: 0.9527 - val_loss: 0.1226 - val_accuracy: 0.9538\n",
      "Epoch 6/20\n",
      "1000/1000 [==============================] - 35s 35ms/step - loss: 0.1193 - accuracy: 0.9546 - val_loss: 0.1199 - val_accuracy: 0.9543\n",
      "Epoch 7/20\n",
      "1000/1000 [==============================] - 35s 35ms/step - loss: 0.1195 - accuracy: 0.9545 - val_loss: 0.1193 - val_accuracy: 0.9548\n",
      "Epoch 8/20\n",
      "1000/1000 [==============================] - 36s 36ms/step - loss: 0.1181 - accuracy: 0.9546 - val_loss: 0.1180 - val_accuracy: 0.9540\n",
      "Epoch 9/20\n",
      "1000/1000 [==============================] - 35s 35ms/step - loss: 0.1152 - accuracy: 0.9557 - val_loss: 0.1177 - val_accuracy: 0.9559\n",
      "Epoch 10/20\n",
      "1000/1000 [==============================] - 38s 38ms/step - loss: 0.1124 - accuracy: 0.9563 - val_loss: 0.1155 - val_accuracy: 0.9564\n",
      "Epoch 11/20\n",
      "1000/1000 [==============================] - 38s 38ms/step - loss: 0.1132 - accuracy: 0.9559 - val_loss: 0.1163 - val_accuracy: 0.9545\n",
      "Epoch 12/20\n",
      "1000/1000 [==============================] - 38s 38ms/step - loss: 0.1131 - accuracy: 0.9563 - val_loss: 0.1172 - val_accuracy: 0.9557\n",
      "Epoch 13/20\n",
      "1000/1000 [==============================] - 38s 38ms/step - loss: 0.1117 - accuracy: 0.9567 - val_loss: 0.1152 - val_accuracy: 0.9559\n",
      "Epoch 14/20\n",
      "1000/1000 [==============================] - 38s 38ms/step - loss: 0.1114 - accuracy: 0.9570 - val_loss: 0.1172 - val_accuracy: 0.9550\n",
      "Epoch 15/20\n",
      "1000/1000 [==============================] - 35s 35ms/step - loss: 0.1097 - accuracy: 0.9571 - val_loss: 0.1141 - val_accuracy: 0.9565\n",
      "Epoch 16/20\n",
      "1000/1000 [==============================] - 36s 36ms/step - loss: 0.1061 - accuracy: 0.9589 - val_loss: 0.1142 - val_accuracy: 0.9562\n",
      "Epoch 17/20\n",
      "1000/1000 [==============================] - 36s 36ms/step - loss: 0.1088 - accuracy: 0.9576 - val_loss: 0.1145 - val_accuracy: 0.9567\n",
      "Epoch 18/20\n",
      "1000/1000 [==============================] - 36s 36ms/step - loss: 0.1085 - accuracy: 0.9584 - val_loss: 0.1166 - val_accuracy: 0.9561\n",
      "Epoch 19/20\n",
      "1000/1000 [==============================] - 40s 40ms/step - loss: 0.1091 - accuracy: 0.9578 - val_loss: 0.1153 - val_accuracy: 0.9549\n",
      "Epoch 20/20\n",
      "1000/1000 [==============================] - 36s 36ms/step - loss: 0.1056 - accuracy: 0.9587 - val_loss: 0.1157 - val_accuracy: 0.9563\n"
     ]
    }
   ],
   "source": [
    "# Train neural network\n",
    "history = model.fit(train_data,\n",
    "                    epochs=20,\n",
    "                    steps_per_epoch=1000, \n",
    "                    validation_data=validation_data,\n",
    "                    verbose=True)"
   ]
  },
  {
   "cell_type": "markdown",
   "id": "employed-birthday",
   "metadata": {
    "execution": {
     "iopub.execute_input": "2021-06-09T07:52:20.008761Z",
     "iopub.status.busy": "2021-06-09T07:52:20.00808Z",
     "iopub.status.idle": "2021-06-09T07:52:20.015778Z",
     "shell.execute_reply": "2021-06-09T07:52:20.013903Z",
     "shell.execute_reply.started": "2021-06-09T07:52:20.008722Z"
    },
    "papermill": {
     "duration": 4.684546,
     "end_time": "2021-06-10T04:27:02.643586",
     "exception": false,
     "start_time": "2021-06-10T04:26:57.959040",
     "status": "completed"
    },
    "tags": []
   },
   "source": [
    "# 3. Visulize accurancy và loss của mô hình"
   ]
  },
  {
   "cell_type": "code",
   "execution_count": 26,
   "id": "brave-outside",
   "metadata": {
    "execution": {
     "iopub.execute_input": "2021-06-10T04:27:11.600197Z",
     "iopub.status.busy": "2021-06-10T04:27:11.587015Z",
     "iopub.status.idle": "2021-06-10T04:27:12.002851Z",
     "shell.execute_reply": "2021-06-10T04:27:12.002252Z",
     "shell.execute_reply.started": "2021-06-09T10:34:30.548455Z"
    },
    "papermill": {
     "duration": 4.971727,
     "end_time": "2021-06-10T04:27:12.003009",
     "exception": false,
     "start_time": "2021-06-10T04:27:07.031282",
     "status": "completed"
    },
    "tags": []
   },
   "outputs": [
    {
     "data": {
      "image/png": "[encoded data removed]",
      "text/plain": [
       "<Figure size 432x288 with 1 Axes>"
      ]
     },
     "metadata": {
      "needs_background": "light"
     },
     "output_type": "display_data"
    },
    {
     "data": {
      "image/png": "[encoded data removed]",
      "text/plain": [
       "<Figure size 432x288 with 1 Axes>"
      ]
     },
     "metadata": {
      "needs_background": "light"
     },
     "output_type": "display_data"
    }
   ],
   "source": [
    "# Get training and test loss histories\n",
    "training_loss = history.history[\"loss\"]\n",
    "test_loss = history.history[\"val_loss\"]\n",
    "# Create count of the number of epochs\n",
    "epoch_count = range(1, len(training_loss) + 1)\n",
    "# Visualize loss history\n",
    "plt.plot(epoch_count, training_loss, \"r--\")\n",
    "plt.plot(epoch_count, test_loss, \"b-\")\n",
    "plt.legend([\"Training Loss\", \"Test Loss\"])\n",
    "plt.xlabel(\"Epoch\")\n",
    "plt.ylabel(\"Loss\")\n",
    "plt.show()\n",
    "\n",
    "# Get training and test accuracy histories\n",
    "training_accuracy = history.history[\"accuracy\"]\n",
    "test_accuracy = history.history[\"val_accuracy\"]\n",
    "plt.plot(epoch_count, training_accuracy, \"r--\")\n",
    "plt.plot(epoch_count, test_accuracy, \"b-\")\n",
    "# Visualize accuracy history\n",
    "plt.legend([\"Training Accuracy\", \"Test Accuracy\"])\n",
    "plt.xlabel(\"Epoch\")\n",
    "plt.ylabel(\"Accuracy Score\")\n",
    "plt.show();"
   ]
  },
  {
   "cell_type": "markdown",
   "id": "outstanding-tradition",
   "metadata": {
    "papermill": {
     "duration": 4.522088,
     "end_time": "2021-06-10T04:27:21.331998",
     "exception": false,
     "start_time": "2021-06-10T04:27:16.809910",
     "status": "completed"
    },
    "tags": []
   },
   "source": [
    "# 4. Dự đoán trong bộ dữ liệu test\n",
    "\n",
    "**Problem**\n",
    "\n",
    "Sử dụng mô hình đã xây dựng được để dự đoán trong bộ test dataframe.\n",
    "\n",
    "**Solution**\n",
    "\n",
    "Tìm ra một giá trị threshold sẽ mang lại giá trị F1 Score tốt nhất. Sau đó sử dụng giá trị threshold tìm được đó để dự đoán tập dữ liệu.\n",
    "\n",
    "**Discuss**\n",
    "\n",
    "Tương tự với việc train model, ở đây ta cũng cần tạo ra các batch chứa dữ liệu để tránh việc tràn bộ nhớ."
   ]
  },
  {
   "cell_type": "code",
   "execution_count": 27,
   "id": "latter-exploration",
   "metadata": {
    "execution": {
     "iopub.execute_input": "2021-06-10T04:27:30.621084Z",
     "iopub.status.busy": "2021-06-10T04:27:30.619856Z",
     "iopub.status.idle": "2021-06-10T04:27:32.422971Z",
     "shell.execute_reply": "2021-06-10T04:27:32.422395Z"
    },
    "papermill": {
     "duration": 6.309319,
     "end_time": "2021-06-10T04:27:32.423129",
     "exception": false,
     "start_time": "2021-06-10T04:27:26.113810",
     "status": "completed"
    },
    "tags": []
   },
   "outputs": [
    {
     "name": "stdout",
     "output_type": "stream",
     "text": [
      "The best F1 score is 0.6280729579698652 at threshold 0.29\n"
     ]
    }
   ],
   "source": [
    "pred_val_y = model.predict(val_vects, verbose=False)\n",
    "\n",
    "best_thres = 0\n",
    "best_thres_id = 0\n",
    "\n",
    "for thres in np.arange(0.1, 0.901, 0.01):\n",
    "    thres = np.round(thres, 2)\n",
    "    value = metrics.f1_score(val_y, (pred_val_y>thres).astype(int))\n",
    "    if value > best_thres:\n",
    "        best_thres = value\n",
    "        best_thres_id = thres\n",
    "        \n",
    "print(\"The best F1 score is {0} at threshold {1}\".format(best_thres, best_thres_id))"
   ]
  },
  {
   "cell_type": "code",
   "execution_count": 28,
   "id": "romance-defensive",
   "metadata": {
    "execution": {
     "iopub.execute_input": "2021-06-10T04:27:41.685329Z",
     "iopub.status.busy": "2021-06-10T04:27:41.684513Z",
     "iopub.status.idle": "2021-06-10T04:27:41.688349Z",
     "shell.execute_reply": "2021-06-10T04:27:41.688868Z"
    },
    "papermill": {
     "duration": 4.442022,
     "end_time": "2021-06-10T04:27:41.689034",
     "exception": false,
     "start_time": "2021-06-10T04:27:37.247012",
     "status": "completed"
    },
    "tags": []
   },
   "outputs": [],
   "source": [
    "def batch_gen_for_submit(test_df):\n",
    "    n_batches = math.ceil(len(test_df) / batch_size)\n",
    "    for i in range(n_batches):\n",
    "        texts = test_df.iloc[i * batch_size: (i + 1) * batch_size, 1]\n",
    "        text_arr = [text_to_array(text) for text in texts]\n",
    "        yield np.array(text_arr, dtype=float)"
   ]
  },
  {
   "cell_type": "code",
   "execution_count": 29,
   "id": "listed-pressure",
   "metadata": {
    "execution": {
     "iopub.execute_input": "2021-06-10T04:27:51.592829Z",
     "iopub.status.busy": "2021-06-10T04:27:51.591716Z",
     "iopub.status.idle": "2021-06-10T04:30:11.736654Z",
     "shell.execute_reply": "2021-06-10T04:30:11.668334Z"
    },
    "papermill": {
     "duration": 145.218769,
     "end_time": "2021-06-10T04:30:11.736943",
     "exception": false,
     "start_time": "2021-06-10T04:27:46.518174",
     "status": "completed"
    },
    "tags": []
   },
   "outputs": [
    {
     "name": "stderr",
     "output_type": "stream",
     "text": [
      "1468it [02:19, 10.54it/s]\n"
     ]
    }
   ],
   "source": [
    "all_preds = []\n",
    "for x in tqdm(batch_gen_for_submit(test_dataframe)):\n",
    "    cc = model.predict(x, verbose=False)\n",
    "    cc = (cc > best_thres_id).astype(int)\n",
    "    for i in cc:\n",
    "        all_preds.append(i[0])"
   ]
  },
  {
   "cell_type": "code",
   "execution_count": 30,
   "id": "careful-wisconsin",
   "metadata": {
    "execution": {
     "iopub.execute_input": "2021-06-10T04:30:21.412152Z",
     "iopub.status.busy": "2021-06-10T04:30:21.411116Z",
     "iopub.status.idle": "2021-06-10T04:30:21.618136Z",
     "shell.execute_reply": "2021-06-10T04:30:21.618765Z"
    },
    "papermill": {
     "duration": 5.179207,
     "end_time": "2021-06-10T04:30:21.618950",
     "exception": false,
     "start_time": "2021-06-10T04:30:16.439743",
     "status": "completed"
    },
    "tags": []
   },
   "outputs": [
    {
     "data": {
      "text/html": [
       "<div>\n",
       "<style scoped>\n",
       "    .dataframe tbody tr th:only-of-type {\n",
       "        vertical-align: middle;\n",
       "    }\n",
       "\n",
       "    .dataframe tbody tr th {\n",
       "        vertical-align: top;\n",
       "    }\n",
       "\n",
       "    .dataframe thead th {\n",
       "        text-align: right;\n",
       "    }\n",
       "</style>\n",
       "<table border=\"1\" class=\"dataframe\">\n",
       "  <thead>\n",
       "    <tr style=\"text-align: right;\">\n",
       "      <th></th>\n",
       "      <th>qid</th>\n",
       "      <th>prediction</th>\n",
       "    </tr>\n",
       "  </thead>\n",
       "  <tbody>\n",
       "    <tr>\n",
       "      <th>0</th>\n",
       "      <td>0000163e3ea7c7a74cd7</td>\n",
       "      <td>1</td>\n",
       "    </tr>\n",
       "    <tr>\n",
       "      <th>1</th>\n",
       "      <td>00002bd4fb5d505b9161</td>\n",
       "      <td>0</td>\n",
       "    </tr>\n",
       "    <tr>\n",
       "      <th>2</th>\n",
       "      <td>00007756b4a147d2b0b3</td>\n",
       "      <td>0</td>\n",
       "    </tr>\n",
       "    <tr>\n",
       "      <th>3</th>\n",
       "      <td>000086e4b7e1c7146103</td>\n",
       "      <td>0</td>\n",
       "    </tr>\n",
       "    <tr>\n",
       "      <th>4</th>\n",
       "      <td>0000c4c3fbe8785a3090</td>\n",
       "      <td>0</td>\n",
       "    </tr>\n",
       "  </tbody>\n",
       "</table>\n",
       "</div>"
      ],
      "text/plain": [
       "                    qid  prediction\n",
       "0  0000163e3ea7c7a74cd7           1\n",
       "1  00002bd4fb5d505b9161           0\n",
       "2  00007756b4a147d2b0b3           0\n",
       "3  000086e4b7e1c7146103           0\n",
       "4  0000c4c3fbe8785a3090           0"
      ]
     },
     "execution_count": 30,
     "metadata": {},
     "output_type": "execute_result"
    }
   ],
   "source": [
    "submit_df = pd.DataFrame({\"qid\": test_dataframe[\"qid\"], \"prediction\": all_preds})\n",
    "submit_df.head(5)"
   ]
  },
  {
   "cell_type": "code",
   "execution_count": 31,
   "id": "discrete-announcement",
   "metadata": {
    "execution": {
     "iopub.execute_input": "2021-06-10T04:30:31.354758Z",
     "iopub.status.busy": "2021-06-10T04:30:31.353645Z",
     "iopub.status.idle": "2021-06-10T04:30:32.401615Z",
     "shell.execute_reply": "2021-06-10T04:30:32.400994Z"
    },
    "papermill": {
     "duration": 6.053685,
     "end_time": "2021-06-10T04:30:32.401805",
     "exception": false,
     "start_time": "2021-06-10T04:30:26.348120",
     "status": "completed"
    },
    "tags": []
   },
   "outputs": [],
   "source": [
    "submit_df.to_csv(\"submission.csv\", index=False)"
   ]
  }
 ],
 "metadata": {
  "kernelspec": {
   "display_name": "Python 3",
   "language": "python",
   "name": "python3"
  },
  "language_info": {
   "codemirror_mode": {
    "name": "ipython",
    "version": 3
   },
   "file_extension": ".py",
   "mimetype": "text/x-python",
   "name": "python",
   "nbconvert_exporter": "python",
   "pygments_lexer": "ipython3",
   "version": "3.7.10"
  },
  "papermill": {
   "default_parameters": {},
   "duration": 1364.092815,
   "end_time": "2021-06-10T04:30:41.497074",
   "environment_variables": {},
   "exception": null,
   "input_path": "__notebook__.ipynb",
   "output_path": "__notebook__.ipynb",
   "parameters": {},
   "start_time": "2021-06-10T04:07:57.404259",
   "version": "2.3.3"
  }
 },
 "nbformat": 4,
 "nbformat_minor": 5
}
